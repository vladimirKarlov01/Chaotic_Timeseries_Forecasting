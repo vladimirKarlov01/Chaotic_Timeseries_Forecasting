{
 "cells": [
  {
   "cell_type": "code",
   "execution_count": 75,
   "id": "advanced-principle",
   "metadata": {},
   "outputs": [],
   "source": [
    "import numpy as np\n",
    "from numba import njit, jit\n",
    "from itertools import product\n",
    "from multiprocessing import Pool\n",
    "\n",
    "import time\n",
    "\n",
    "\n",
    "class Point:\n",
    "    def __init__(self, real_value, predictions_set, predicted_value, is_virgin, is_completed):\n",
    "        self.real_value = real_value\n",
    "        self.predictions_set = predictions_set\n",
    "        self.predicted_value = predicted_value\n",
    "        self.is_virgin = is_virgin\n",
    "        self.is_completed = is_completed\n",
    "\n",
    "    def info(self):\n",
    "        print('{ ', self.predictions_set.size, self.real_value, self.predicted_value, '}', end=' ')\n",
    "\n",
    "\n",
    "def normalize(arr):\n",
    "    return (arr - arr.min()) / (arr.max() - arr.min())\n",
    "\n",
    "LORENZ = (np.genfromtxt(\"lorenz.txt\"))  # последние k элементов ряда - тестовая выборка\n",
    "# train = (np.genfromtxt(\"lorenz.txt\", skip_footer=90000))  # ряд без последних k элементов - тренировочная выборка\n",
    "\n",
    "TEST_BEGIN = 99900\n",
    "TEST_END = 100000\n",
    "\n",
    "CLAWS_MAX_DIST = 9\n",
    "NUMBER_OF_CLAWS = 4\n",
    "\n",
    "TRAIN_GAP = 1000\n",
    "TEST_GAP = 100\n",
    "\n",
    "MAX_NORM_DELTA = 0.015  # было 0.015\n",
    "MAX_ABS_ERROR = 0.05  # изначально было 0.05\n",
    "\n",
    "S = 34  # количество предшедствующих точек ряда, необходимое для прогнозирования точки\n",
    "\n",
    "K_MAX = 26"
   ]
  },
  {
   "cell_type": "code",
   "execution_count": 76,
   "id": "smaller-buffer",
   "metadata": {},
   "outputs": [],
   "source": [
    "def reforecast(points, first_not_completed):\n",
    "    for template_number in range(len(templates_by_distances)):\n",
    "        x, y, z = templates_by_distances[template_number]\n",
    "        for middle_point in range(first_not_completed, len(points)):  # middle_point - это индекс в points\n",
    "            if middle_point + z + 1 >= len(points) or points[middle_point].is_virgin or points[middle_point + z + 1].is_completed:\n",
    "                continue\n",
    "\n",
    "            left_part = np.array(\n",
    "                [points[middle_point - y - x - 2].predicted_value,\n",
    "                 points[middle_point - y - 1].predicted_value,\n",
    "                 points[middle_point].predicted_value]\n",
    "            )\n",
    "\n",
    "            if np.isnan(np.sum(left_part)):\n",
    "                # print(\"template\", template_number, \"can't be used\")\n",
    "                continue\n",
    "\n",
    "            for shifted_template in shifts_for_each_template[template_number]:\n",
    "                if np.linalg.norm(left_part - shifted_template[:3]) <= MAX_NORM_DELTA:\n",
    "                    points[middle_point + z + 1].predictions_set = np.append(points[middle_point + z + 1].predictions_set, shifted_template[3])\n",
    "                    points[middle_point + z + 1].is_virgin = False\n",
    "\n",
    "    for middle_point in range(first_not_completed, len(points)):\n",
    "        # print(\"  recalculating point\", middle_point, )\n",
    "        point_obj = points[middle_point]\n",
    "\n",
    "        if point_obj.predictions_set.size:\n",
    "            point_obj.predicted_value = sum(point_obj.predictions_set) / len(point_obj.predictions_set)\n",
    "        else:\n",
    "            continue\n",
    "\n",
    "        cur_error = abs(point_obj.real_value - point_obj.predicted_value)\n",
    "\n",
    "        if np.isnan(point_obj.predicted_value) or (cur_error > MAX_ABS_ERROR and middle_point != len(points) - 1):\n",
    "            point_obj.predicted_value = np.nan\n",
    "            # print(\"%d-th point is unpredictable, error = %f\" % (middle_point, cur_error))\n",
    "\n",
    "        # print(\"%d-th point is predictable, predicted_value: %f, error = %f\" % (middle_point, predicted_value, cur_error))\n",
    "    # for printed_point_index in range(S, len(points)):\n",
    "    #     points[printed_point_index].info()\n",
    "    # print('\\n')\n",
    "\n",
    "    points[first_not_completed].is_completed = True\n"
   ]
  },
  {
   "cell_type": "code",
   "execution_count": 93,
   "id": "opening-ordinary",
   "metadata": {},
   "outputs": [],
   "source": [
    "@njit\n",
    "def jit_reforecast(points, first_not_completed):\n",
    "    for template_number in range(len(templates_by_distances)):\n",
    "        x, y, z = templates_by_distances[template_number]\n",
    "        for middle_point in range(first_not_completed, len(points)):  # middle_point - это индекс в points\n",
    "            if middle_point + z + 1 >= len(points) or points[middle_point].is_virgin or points[middle_point + z + 1].is_completed:\n",
    "                continue\n",
    "\n",
    "            left_part = np.array(\n",
    "                [points[middle_point - y - x - 2].predicted_value,\n",
    "                 points[middle_point - y - 1].predicted_value,\n",
    "                 points[middle_point].predicted_value]\n",
    "            )\n",
    "\n",
    "            if np.isnan(np.sum(left_part)):\n",
    "                # print(\"template\", template_number, \"can't be used\")\n",
    "                continue\n",
    "\n",
    "            for shifted_template in shifts_for_each_template[template_number]:\n",
    "                if np.linalg.norm(left_part - shifted_template[:3]) <= MAX_NORM_DELTA:\n",
    "                    points[middle_point + z + 1].predictions_set = np.append(points[middle_point + z + 1].predictions_set, shifted_template[3])\n",
    "                    points[middle_point + z + 1].is_virgin = False\n",
    "\n",
    "    for middle_point in range(first_not_completed, len(points)):\n",
    "        # print(\"  recalculating point\", middle_point, )\n",
    "        point_obj = points[middle_point]\n",
    "\n",
    "        setSum = 0\n",
    "        for cnt in range(len(point_obj.predictions_set)):\n",
    "            setSum += point_obj.predictions_set[cnt]\n",
    "            \n",
    "        if point_obj.predictions_set.size:\n",
    "            point_obj.predicted_value = setSum / len(point_obj.predictions_set)\n",
    "        else:\n",
    "            continue\n",
    "\n",
    "        cur_error = abs(point_obj.real_value - point_obj.predicted_value)\n",
    "\n",
    "        if np.isnan(point_obj.predicted_value) or (cur_error > MAX_ABS_ERROR and middle_point != len(points) - 1):\n",
    "            point_obj.predicted_value = np.nan\n",
    "\n",
    "    # for printed_point_index in range(S, len(points)):\n",
    "    #     points[printed_point_index].info()\n",
    "    # print('\\n')\n",
    "\n",
    "    points[first_not_completed].is_completed = True\n"
   ]
  },
  {
   "cell_type": "code",
   "execution_count": 1,
   "id": "unknown-dance",
   "metadata": {},
   "outputs": [],
   "source": [
    "def predict(i, k):\n",
    "    complete_points = [Point(_, np.array([]), _, 0, 1) for _ in LORENZ[i - k - 33: i - k + 1]]  # правая граница не включена => это список из 34 + k точек\n",
    "    new_points = [Point(_, np.array([]), np.nan, 1, 0) for _ in LORENZ[i - k + 1: i + 1]]\n",
    "    points = complete_points + new_points\n",
    "    \n",
    "    reforecast(points, S - 10)\n",
    "    for cur_point in range(1, k):\n",
    "        reforecast(points, S + cur_point)\n",
    "        \n",
    "    return abs(LORENZ[i] - points[-1].predicted_value), not np.isnan(points[-1].predicted_value)"
   ]
  },
  {
   "cell_type": "code",
   "execution_count": 79,
   "id": "three-unemployment",
   "metadata": {},
   "outputs": [
    {
     "name": "stdout",
     "output_type": "stream",
     "text": [
      "Wall time: 2 ms\n"
     ]
    }
   ],
   "source": [
    "%%time\n",
    "# Generating templates\n",
    "templates_by_distances = np.array(list(\n",
    "    product(range(CLAWS_MAX_DIST + 1), range(CLAWS_MAX_DIST + 1), range(CLAWS_MAX_DIST + 1)))\n",
    ")"
   ]
  },
  {
   "cell_type": "code",
   "execution_count": 80,
   "id": "divided-shuttle",
   "metadata": {},
   "outputs": [
    {
     "name": "stdout",
     "output_type": "stream",
     "text": [
      "Wall time: 76 ms\n"
     ]
    }
   ],
   "source": [
    "%%time\n",
    "# Training - FIT\n",
    "shifts_for_each_template = []\n",
    "for template_number in range(len(templates_by_distances)):\n",
    "    [x, y, z] = templates_by_distances[template_number]\n",
    "    cur_claws_indexes = np.array([0, x + 1, x + y + 2, x + y + z + 3])\n",
    "    tmp = cur_claws_indexes + np.arange(TRAIN_GAP - cur_claws_indexes[3]).reshape(-1, 1)\n",
    "    shifts_for_each_template.append(LORENZ[tmp])"
   ]
  },
  {
   "cell_type": "code",
   "execution_count": 91,
   "id": "offshore-tampa",
   "metadata": {},
   "outputs": [],
   "source": [
    "i, k = 99950, 1\n",
    "complete_points = [Point(_, np.array([]), _, 0, 1) for _ in LORENZ[i - k - 33: i - k + 1]]  # правая граница не включена => это список из 34 + k точек\n",
    "new_points = [Point(_, np.array([]), np.nan, 1, 0) for _ in LORENZ[i - k + 1: i + 1]]\n",
    "points = complete_points + new_points"
   ]
  },
  {
   "cell_type": "code",
   "execution_count": 88,
   "id": "bulgarian-arthur",
   "metadata": {},
   "outputs": [
    {
     "name": "stdout",
     "output_type": "stream",
     "text": [
      "Wall time: 9.26 s\n"
     ]
    }
   ],
   "source": [
    "%%time\n",
    "reforecast(points, S - 10)"
   ]
  },
  {
   "cell_type": "code",
   "execution_count": 94,
   "id": "enhanced-parker",
   "metadata": {},
   "outputs": [
    {
     "ename": "TypingError",
     "evalue": "Failed in nopython mode pipeline (step: nopython frontend)\n\u001B[1m\u001B[1mnon-precise type pyobject\u001B[0m\n\u001B[0m\u001B[1mDuring: typing of argument at <ipython-input-93-2a895ce4a275> (3)\u001B[0m\n\u001B[1m\nFile \"<ipython-input-93-2a895ce4a275>\", line 3:\u001B[0m\n\u001B[1mdef jit_reforecast(points, first_not_completed):\n\u001B[1m    for template_number in range(len(templates_by_distances)):\n\u001B[0m    \u001B[1m^\u001B[0m\u001B[0m\n\nThis error may have been caused by the following argument(s):\n- argument 0: Cannot type list element type <class '__main__.Point'>\n",
     "output_type": "error",
     "traceback": [
      "\u001B[1;31m---------------------------------------------------------------------------\u001B[0m",
      "\u001B[1;31mTypingError\u001B[0m                               Traceback (most recent call last)",
      "\u001B[1;32m<timed eval>\u001B[0m in \u001B[0;36m<module>\u001B[1;34m\u001B[0m\n",
      "\u001B[1;32m~\\anaconda3\\lib\\site-packages\\numba\\core\\dispatcher.py\u001B[0m in \u001B[0;36m_compile_for_args\u001B[1;34m(self, *args, **kws)\u001B[0m\n\u001B[0;32m    418\u001B[0m                 \u001B[0me\u001B[0m\u001B[1;33m.\u001B[0m\u001B[0mpatch_message\u001B[0m\u001B[1;33m(\u001B[0m\u001B[0mmsg\u001B[0m\u001B[1;33m)\u001B[0m\u001B[1;33m\u001B[0m\u001B[1;33m\u001B[0m\u001B[0m\n\u001B[0;32m    419\u001B[0m \u001B[1;33m\u001B[0m\u001B[0m\n\u001B[1;32m--> 420\u001B[1;33m             \u001B[0merror_rewrite\u001B[0m\u001B[1;33m(\u001B[0m\u001B[0me\u001B[0m\u001B[1;33m,\u001B[0m \u001B[1;34m'typing'\u001B[0m\u001B[1;33m)\u001B[0m\u001B[1;33m\u001B[0m\u001B[1;33m\u001B[0m\u001B[0m\n\u001B[0m\u001B[0;32m    421\u001B[0m         \u001B[1;32mexcept\u001B[0m \u001B[0merrors\u001B[0m\u001B[1;33m.\u001B[0m\u001B[0mUnsupportedError\u001B[0m \u001B[1;32mas\u001B[0m \u001B[0me\u001B[0m\u001B[1;33m:\u001B[0m\u001B[1;33m\u001B[0m\u001B[1;33m\u001B[0m\u001B[0m\n\u001B[0;32m    422\u001B[0m             \u001B[1;31m# Something unsupported is present in the user code, add help info\u001B[0m\u001B[1;33m\u001B[0m\u001B[1;33m\u001B[0m\u001B[1;33m\u001B[0m\u001B[0m\n",
      "\u001B[1;32m~\\anaconda3\\lib\\site-packages\\numba\\core\\dispatcher.py\u001B[0m in \u001B[0;36merror_rewrite\u001B[1;34m(e, issue_type)\u001B[0m\n\u001B[0;32m    359\u001B[0m                 \u001B[1;32mraise\u001B[0m \u001B[0me\u001B[0m\u001B[1;33m\u001B[0m\u001B[1;33m\u001B[0m\u001B[0m\n\u001B[0;32m    360\u001B[0m             \u001B[1;32melse\u001B[0m\u001B[1;33m:\u001B[0m\u001B[1;33m\u001B[0m\u001B[1;33m\u001B[0m\u001B[0m\n\u001B[1;32m--> 361\u001B[1;33m                 \u001B[1;32mraise\u001B[0m \u001B[0me\u001B[0m\u001B[1;33m.\u001B[0m\u001B[0mwith_traceback\u001B[0m\u001B[1;33m(\u001B[0m\u001B[1;32mNone\u001B[0m\u001B[1;33m)\u001B[0m\u001B[1;33m\u001B[0m\u001B[1;33m\u001B[0m\u001B[0m\n\u001B[0m\u001B[0;32m    362\u001B[0m \u001B[1;33m\u001B[0m\u001B[0m\n\u001B[0;32m    363\u001B[0m         \u001B[0margtypes\u001B[0m \u001B[1;33m=\u001B[0m \u001B[1;33m[\u001B[0m\u001B[1;33m]\u001B[0m\u001B[1;33m\u001B[0m\u001B[1;33m\u001B[0m\u001B[0m\n",
      "\u001B[1;31mTypingError\u001B[0m: Failed in nopython mode pipeline (step: nopython frontend)\n\u001B[1m\u001B[1mnon-precise type pyobject\u001B[0m\n\u001B[0m\u001B[1mDuring: typing of argument at <ipython-input-93-2a895ce4a275> (3)\u001B[0m\n\u001B[1m\nFile \"<ipython-input-93-2a895ce4a275>\", line 3:\u001B[0m\n\u001B[1mdef jit_reforecast(points, first_not_completed):\n\u001B[1m    for template_number in range(len(templates_by_distances)):\n\u001B[0m    \u001B[1m^\u001B[0m\u001B[0m\n\nThis error may have been caused by the following argument(s):\n- argument 0: Cannot type list element type <class '__main__.Point'>\n"
     ]
    }
   ],
   "source": [
    "%%time\n",
    "jit_reforecast(points, S - 10)"
   ]
  },
  {
   "cell_type": "code",
   "execution_count": null,
   "id": "daily-analysis",
   "metadata": {},
   "outputs": [],
   "source": []
  }
 ],
 "metadata": {
  "kernelspec": {
   "display_name": "Python 3",
   "language": "python",
   "name": "python3"
  },
  "language_info": {
   "codemirror_mode": {
    "name": "ipython",
    "version": 3
   },
   "file_extension": ".py",
   "mimetype": "text/x-python",
   "name": "python",
   "nbconvert_exporter": "python",
   "pygments_lexer": "ipython3",
   "version": "3.8.8"
  }
 },
 "nbformat": 4,
 "nbformat_minor": 5
}